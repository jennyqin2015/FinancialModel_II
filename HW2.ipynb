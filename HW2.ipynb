{
 "cells": [
  {
   "cell_type": "markdown",
   "metadata": {},
   "source": [
    "HM2\n",
    "Jiahang Guo  \n",
    "Zhengyi Qin \n",
    "Qian Liu"
   ]
  },
  {
   "cell_type": "markdown",
   "metadata": {},
   "source": [
    "1.Price a 1-year European call option with S0=K=100,assuming no dividend and the risk-free interest is 3% and the underlying volatility is 30%."
   ]
  },
  {
   "cell_type": "code",
   "execution_count": 3,
   "metadata": {},
   "outputs": [],
   "source": [
    "import matplotlib.pyplot as plt\n",
    "import numpy as np"
   ]
  },
  {
   "cell_type": "code",
   "execution_count": 9,
   "metadata": {},
   "outputs": [
    {
     "name": "stdout",
     "output_type": "stream",
     "text": [
      "European Call Price: 13.253838123630667\n",
      "European Put Price: 10.298391478481683\n"
     ]
    }
   ],
   "source": [
    "import matplotlib.pyplot as plt\n",
    "import numpy as np\n",
    "import math\n",
    "\n",
    "def Binomial(n, S, K, r, v, t, PutCall):  \n",
    "    At = t/n \n",
    "    u = np.exp(v*np.sqrt(At))\n",
    "    d = 1./u\n",
    "    p = (np.exp(r*At)-d) / (u-d) \n",
    "\n",
    "    #Binomial price tree\n",
    "    stockvalue = np.zeros((n+1,n+1))\n",
    "    stockvalue[0,0] = S\n",
    "    for i in range(1,n+1):\n",
    "        stockvalue[i,0] = stockvalue[i-1,0]*u\n",
    "        for j in range(1,i+1):\n",
    "            stockvalue[i,j] = stockvalue[i-1,j-1]*d\n",
    "    \n",
    "    #option value at final node   \n",
    "    optionvalue = np.zeros((n+1,n+1))\n",
    "    for j in range(n+1):\n",
    "        if PutCall==\"C\": # Call\n",
    "            optionvalue[n,j] = max(0, stockvalue[n,j]-K)\n",
    "        elif PutCall==\"P\": #Put\n",
    "            optionvalue[n,j] = max(0, K-stockvalue[n,j])\n",
    "    \n",
    "    #backward calculation for option price   \n",
    "    '''\n",
    "    for j in range(n+1): \n",
    "        optionvalue[0,0] += np.exp(-r) * (m.comb(n,j)) * p**(j)*(1-p)**(n-j)*optionvalue[n,n-j]\n",
    "    return optionvalue[0,0]\n",
    "    '''\n",
    "    for i in range(n-1,-1,-1):\n",
    "        for j in range(i+1):\n",
    "                    optionvalue[i,j] = np.exp(-r*At)*(p*optionvalue[i+1,j]+(1-p)*optionvalue[i+1,j+1])\n",
    "    return optionvalue[0,0]\n",
    "                \n",
    "    # Inputs\n",
    "n = 100 #input(\"Enter number of binomial steps: \")           #number of steps\n",
    "S = 100 #input(\"Enter the initial underlying asset price: \") #initial underlying asset price\n",
    "r = 0.03 #input(\"Enter the risk-free interest rate: \")        #risk-free interest rate\n",
    "K = 100 #input(\"Enter the option strike price: \")            #strike price\n",
    "v = 0.3 #input(\"Enter the volatility factor: \")              #volatility\n",
    "t = 1.\n",
    "\n",
    "    #Graphs and results for the Option prices\n",
    "\n",
    "\n",
    "\n",
    "print(\"European Call Price: %s\" %(Binomial(n, S, K, r, v, t, PutCall=\"C\")))\n",
    "\n",
    "\n",
    "print(\"European Put Price: %s\"%(Binomial(n, S, K, r, v, t, PutCall=\"P\")))"
   ]
  },
  {
   "cell_type": "code",
   "execution_count": 10,
   "metadata": {},
   "outputs": [],
   "source": [
    "import matplotlib.pyplot as plt"
   ]
  },
  {
   "cell_type": "markdown",
   "metadata": {},
   "source": [
    "2. Pick the number of steps in the tree and examine how the calculated option prices change."
   ]
  },
  {
   "cell_type": "code",
   "execution_count": 13,
   "metadata": {},
   "outputs": [
    {
     "data": {
      "text/plain": [
       "Text(0.5, 1.0, 'call option')"
      ]
     },
     "execution_count": 13,
     "metadata": {},
     "output_type": "execute_result"
    },
    {
     "data": {
      "image/png": "[encoded data removed]",
      "text/plain": [
       "<Figure size 432x288 with 1 Axes>"
      ]
     },
     "metadata": {
      "needs_background": "light"
     },
     "output_type": "display_data"
    }
   ],
   "source": [
    "call_options = []\n",
    "for n in range(10,300,10):\n",
    "    call = Binomial(n, S, K, r, v, t, PutCall=\"C\")\n",
    "    call_options.append(call)\n",
    "call_options\n",
    "plt.plot(range(10,300,10), call_options)\n",
    "plt.xlabel(\"steps number\")\n",
    "plt.ylabel(\"option price\")\n",
    "plt.title('call option')"
   ]
  },
  {
   "cell_type": "code",
   "execution_count": 14,
   "metadata": {},
   "outputs": [
    {
     "data": {
      "text/plain": [
       "Text(0.5, 1.0, 'put option')"
      ]
     },
     "execution_count": 14,
     "metadata": {},
     "output_type": "execute_result"
    },
    {
     "data": {
      "image/png": "[encoded data removed]",
      "text/plain": [
       "<Figure size 432x288 with 1 Axes>"
      ]
     },
     "metadata": {
      "needs_background": "light"
     },
     "output_type": "display_data"
    }
   ],
   "source": [
    "put_options = []\n",
    "for n in range(10,300,10):\n",
    "    put = Binomial(n, S, K, r, v, t, PutCall=\"P\")\n",
    "    put_options.append(put)\n",
    "put_options\n",
    "plt.plot(range(10,300,10), put_options)\n",
    "plt.xlabel(\"steps number\")\n",
    "plt.ylabel(\"option price\")\n",
    "plt.title('put option')"
   ]
  },
  {
   "cell_type": "markdown",
   "metadata": {},
   "source": [
    "3. plot the terminal stock price distribution generated by the tree.Compute the hedge ratio and the B-S delta. Compare the hedge ratio implied by the tree an dsummarize the difference btw these two numbers at each node."
   ]
  },
  {
   "cell_type": "code",
   "execution_count": 16,
   "metadata": {},
   "outputs": [],
   "source": [
    "n = 300 #number of steps\n",
    "S = 100 #initial underlying asset price\n",
    "r = 0.03 #risk-free interest rate\n",
    "K = 100 #strike price\n",
    "v = 0.3 #volatility\n",
    "t = 1.\n",
    "\n",
    "At = t/n \n",
    "u = np.exp(v*np.sqrt(At))\n",
    "d = 1./u\n",
    "p = (np.exp(r*At)-d) / (u-d) \n",
    "\n",
    "#Binomial price tree\n",
    "stockvalue = np.zeros((n+1,n+1))\n",
    "stockvalue[0,0] = S\n",
    "for i in range(1,n+1):\n",
    "    stockvalue[i,0] = stockvalue[i-1,0]*u\n",
    "    for j in range(1,i+1):\n",
    "        stockvalue[i,j] = stockvalue[i-1,j-1]*d\n",
    "    \n",
    "#option value at final node\n",
    "#call option\n",
    "optionvaluecall = np.zeros((n+1,n+1))\n",
    "for j in range(n+1):\n",
    "    optionvaluecall[n,j] = max(0, stockvalue[n,j]-K)\n",
    "#put option\n",
    "optionvalueput = np.zeros((n+1,n+1))\n",
    "for j in range(n+1):\n",
    "    optionvalueput[n,j] = max(0, K-stockvalue[n,j])\n",
    "#call option\n",
    "for i in range(n-1,-1,-1):\n",
    "    for j in range(i+1):\n",
    "                optionvaluecall[i,j] = np.exp(-r*At)*(p*optionvaluecall[i+1,j]+(1-p)*optionvaluecall[i+1,j+1])\n",
    "\n",
    "#put option\n",
    "for i in range(n-1,-1,-1):\n",
    "    for j in range(i+1):\n",
    "                optionvalueput[i,j] = np.exp(-r*At)*(p*optionvalueput[i+1,j]+(1-p)*optionvalueput[i+1,j+1])\n",
    "\n",
    "   "
   ]
  },
  {
   "cell_type": "code",
   "execution_count": 19,
   "metadata": {},
   "outputs": [
    {
     "data": {
      "image/png": "[encoded data removed]",
      "text/plain": [
       "<Figure size 432x288 with 1 Axes>"
      ]
     },
     "metadata": {
      "needs_background": "light"
     },
     "output_type": "display_data"
    },
    {
     "data": {
      "text/plain": [
       "Text(0.5, 0, 'log stock price')"
      ]
     },
     "execution_count": 19,
     "metadata": {},
     "output_type": "execute_result"
    },
    {
     "data": {
      "image/png": "[encoded data removed]",
      "text/plain": [
       "<Figure size 432x288 with 1 Axes>"
      ]
     },
     "metadata": {
      "needs_background": "light"
     },
     "output_type": "display_data"
    }
   ],
   "source": [
    "n=300\n",
    "stockprice=[]\n",
    "stockpricelog=[]\n",
    "for i in range(n+1):\n",
    "    stockprice.append(stockvalue[n,i])\n",
    "    stockpricelog.append(np.log(stockvalue[n,i]))\n",
    "plt.figure()\n",
    "plt.plot(stockprice,range(301))\n",
    "plt.title('terminal stock price')\n",
    "plt.xlabel(\"stock price\")\n",
    "plt.show()\n",
    "stockpricelog=np.log(stockprice)\n",
    "plt.plot(stockpricelog,range(301))\n",
    "plt.title('terminal log stock price')\n",
    "plt.xlabel(\"log stock price\")\n"
   ]
  },
  {
   "cell_type": "code",
   "execution_count": 23,
   "metadata": {},
   "outputs": [
    {
     "data": {
      "text/plain": [
       "DescribeResult(nobs=45150, minmax=(0.0, 1.0000000000000318), mean=0.5065706140085775, variance=0.22968332920890328, skewness=-0.027116839307432698, kurtosis=-1.9383458720479032)"
      ]
     },
     "execution_count": 23,
     "metadata": {},
     "output_type": "execute_result"
    }
   ],
   "source": [
    "#hedge ratio\n",
    "#call option\n",
    "stats.describe(call)\n",
    "n=300\n",
    "ratiocall=[[] for i in range(n)]\n",
    "call=[]\n",
    "for i in range(n):\n",
    "    for j in range(i+1):\n",
    "        hedge=(optionvaluecall[i+1,j]-optionvaluecall[i+1,j+1])/(stockvalue[i,j]*(u-d))\n",
    "        ratiocall[i].append(hedge)\n",
    "        call.append(hedge)\n",
    "stats.describe(call)"
   ]
  },
  {
   "cell_type": "code",
   "execution_count": 22,
   "metadata": {},
   "outputs": [
    {
     "data": {
      "text/plain": [
       "DescribeResult(nobs=45150, minmax=(-1.0000000000018823, 0.0), mean=-0.4934293859914323, variance=0.2296833292089033, skewness=-0.027116839307428867, kurtosis=-1.9383458720479034)"
      ]
     },
     "execution_count": 22,
     "metadata": {},
     "output_type": "execute_result"
    }
   ],
   "source": [
    "#put option\n",
    "ratioput=[[] for i in range(n)]\n",
    "put=[]\n",
    "for i in range(n):\n",
    "    for j in range(i+1):\n",
    "        hedge=(optionvalueput[i+1,j]-optionvalueput[i+1,j+1])/(stockvalue[i,j]*(u-d))\n",
    "        ratioput[i].append(hedge)\n",
    "        put.append(hedge)\n",
    "stats.describe(put)"
   ]
  },
  {
   "cell_type": "markdown",
   "metadata": {},
   "source": [
    "4. Use the same chosen tree to price the put option by changing the exercise style to american option."
   ]
  },
  {
   "cell_type": "code",
   "execution_count": 4,
   "metadata": {},
   "outputs": [
    {
     "name": "stdout",
     "output_type": "stream",
     "text": [
      "American Call Price: 13.253838123630667\n",
      "American Put Price: 10.59171157250753\n"
     ]
    }
   ],
   "source": [
    "#American option\n",
    "def BinomialAm(n, S, K, r, v, t, PutCall):  \n",
    "    At = t/n \n",
    "    u = np.exp(v*np.sqrt(At))\n",
    "    d = 1./u\n",
    "    p = (np.exp(r*At)-d) / (u-d) \n",
    "\n",
    "    #Binomial price tree\n",
    "    stockvalue = np.zeros((n+1,n+1))\n",
    "    stockvalue[0,0] = S\n",
    "    for i in range(1,n+1):\n",
    "        stockvalue[i,0] = stockvalue[i-1,0]*u\n",
    "        for j in range(1,i+1):\n",
    "            stockvalue[i,j] = stockvalue[i-1,j-1]*d\n",
    "    \n",
    "    #option value at final node   \n",
    "    optionvalue = np.zeros((n+1,n+1))\n",
    "    for j in range(n+1):\n",
    "        if PutCall==\"C\": # Call\n",
    "            optionvalue[n,j] = max(0, stockvalue[n,j]-K)\n",
    "        elif PutCall==\"P\": #Put\n",
    "            optionvalue[n,j] = max(0, K-stockvalue[n,j])\n",
    "    \n",
    "    #backward calculation for option price   \n",
    " \n",
    "    for i in range(n-1,-1,-1):\n",
    "        for j in range(i+1):\n",
    "                if PutCall==\"P\":\n",
    "                    optionvalue[i,j] = max(0, K-stockvalue[i,j], np.exp(-r*At)*(p*optionvalue[i+1,j]+(1-p)*optionvalue[i+1,j+1]))\n",
    "                elif PutCall==\"C\":\n",
    "                    optionvalue[i,j] = max(0, stockvalue[i,j]-K, np.exp(-r*At)*(p*optionvalue[i+1,j]+(1-p)*optionvalue[i+1,j+1]))\n",
    "    return optionvalue[0,0]\n",
    "   # Inputs\n",
    "n = 100 #input(\"Enter number of binomial steps: \")           #number of steps\n",
    "S = 100 #input(\"Enter the initial underlying asset price: \") #initial underlying asset price\n",
    "r = 0.03 #input(\"Enter the risk-free interest rate: \")        #risk-free interest rate\n",
    "K = 100 #input(\"Enter the option strike price: \")            #strike price\n",
    "v = 0.3 #input(\"Enter the volatility factor: \")              #volatility\n",
    "t = 1.\n",
    "\n",
    "    #Graphs and results for the Option prices\n",
    "\n",
    "\n",
    "\n",
    "print(\"American Call Price: %s\" %(BinomialAm(n, S, K, r, v, t, PutCall=\"C\")))\n",
    "\n",
    "\n",
    "print(\"American Put Price: %s\"%(BinomialAm(n, S, K, r, v, t, PutCall=\"P\")))"
   ]
  },
  {
   "cell_type": "markdown",
   "metadata": {},
   "source": [
    "We found that when using the same chosen tree, the call prices of European option and American option are the same, while the put price of American option is higher than the put price of European option"
   ]
  },
  {
   "cell_type": "code",
   "execution_count": 121,
   "metadata": {},
   "outputs": [
    {
     "data": {
      "text/plain": [
       "[<matplotlib.lines.Line2D at 0x1a1ba8c410>]"
      ]
     },
     "execution_count": 121,
     "metadata": {},
     "output_type": "execute_result"
    },
    {
     "data": {
      "image/png": "[encoded data removed]",
      "text/plain": [
       "<Figure size 432x288 with 1 Axes>"
      ]
     },
     "metadata": {
      "needs_background": "light"
     },
     "output_type": "display_data"
    }
   ],
   "source": [
    "#call option\n",
    "call_optionsAm= []\n",
    "for n in range(10,300,10):\n",
    "    call = BinomialAm(n, S, K, r, v, t, PutCall=\"C\")\n",
    "    call_optionsAm.append(call)\n",
    "call_optionsAm\n",
    "plt.plot(range(10,300,10), call_optionsAm)"
   ]
  },
  {
   "cell_type": "code",
   "execution_count": 122,
   "metadata": {},
   "outputs": [
    {
     "data": {
      "text/plain": [
       "[<matplotlib.lines.Line2D at 0x1a1c488dd0>]"
      ]
     },
     "execution_count": 122,
     "metadata": {},
     "output_type": "execute_result"
    },
    {
     "data": {
      "image/png": "[encoded data removed]",
      "text/plain": [
       "<Figure size 432x288 with 1 Axes>"
      ]
     },
     "metadata": {
      "needs_background": "light"
     },
     "output_type": "display_data"
    }
   ],
   "source": [
    "#put option\n",
    "put_optionsAm = []\n",
    "for n in range(10,300,10):\n",
    "    put = BinomialAm(n, S, K, r, v, t, PutCall=\"P\")\n",
    "    put_optionsAm.append(put)\n",
    "put_optionsAm\n",
    "plt.plot(range(10,300,10), put_optionsAm)"
   ]
  },
  {
   "cell_type": "markdown",
   "metadata": {},
   "source": [
    "By ploting the convergence process, we found that American option price and European option price are converge at the same step level"
   ]
  },
  {
   "cell_type": "markdown",
   "metadata": {},
   "source": [
    "5. Use the longstaff schewartz method to price..."
   ]
  },
  {
   "cell_type": "code",
   "execution_count": 25,
   "metadata": {},
   "outputs": [],
   "source": [
    "class AmericanOption(object):\n",
    "    def __init__(self,putcall,S,k,T,N,r,v,simulation):\n",
    "        self.simulation1=int(simulation/2)\n",
    "        self.putcall=putcall\n",
    "        self.S=float(S)\n",
    "        self.k=float(k)\n",
    "        self.T=float(T)\n",
    "        self.N=int(N)\n",
    "        self.r=float(r)\n",
    "        self.v=float(v)\n",
    "        self.simulation=int(simulation)\n",
    "        self.dt=self.T/float(self.N)\n",
    "        self.discount=np.exp(-self.r*self.dt)\n",
    "    @property\n",
    "    def price_martix(self,seed=123):#Monte Carlo price martix\n",
    "        np.random.seed(seed)\n",
    "        price_martix=np.zeros((self.N+1,self.simulation),dtype=np.float64)\n",
    "        price_martix[0,:]=self.S\n",
    "        for t in range(1,self.N+1):\n",
    "            brownian=np.random.standard_normal(self.simulation1)\n",
    "            brownian=np.concatenate((brownian,-brownian))\n",
    "            price_martix[t,:]=(price_martix[t-1,:]*np.exp((self.r-self.v**2/2.)*self.dt+self.v*brownian*np.sqrt(self.dt)))\n",
    "        return price_martix\n",
    "    @property\n",
    "    def payoff(self):\n",
    "        if self.putcall=='call':\n",
    "            payoff=np.maximum(self.price_martix-self.k,np.zeros((self.N+1,self.simulation),dtype=np.float64))\n",
    "        else:\n",
    "            payoff=np.maximum(self.k-self.price_martix,np.zeros((self.N+1,self.simulation),dtype=np.float64))\n",
    "        return payoff\n",
    "    @property\n",
    "    def value(self):\n",
    "        value_martix=np.zeros_like(self.payoff)\n",
    "        value_martix[-1,:]=self.payoff[-1,:]\n",
    "        for t in range(self.N-1,0,-1):\n",
    "            regression=np.polyfit(self.price_martix[t,:],value_martix[t+1,:]*self.discount,3)\n",
    "            continution_val=np.polyval(regression,self.price_martix[t,:])\n",
    "            value_martix[t,:]=np.where(self.payoff[t,:]>continution_val,self.payoff[t,:],value_martix[t+1,:]*self.discount)\n",
    "        return value_martix[1,:]*self.discount\n",
    "    @property\n",
    "    def price(self):\n",
    "        return np.sum(self.value)/float(self.simulation)"
   ]
  },
  {
   "cell_type": "code",
   "execution_count": 26,
   "metadata": {},
   "outputs": [
    {
     "name": "stdout",
     "output_type": "stream",
     "text": [
      "Put Price:  10.32160172741628\n",
      "Call Price:  12.731549058015025\n"
     ]
    }
   ],
   "source": [
    "AmericanPUT = AmericanOption('put', 100., 100., 1., 50, 0.03, 0.3, 100000)\n",
    "print ('Put Price: ', AmericanPUT.price)\n",
    "AmericanPUT = AmericanOption('call', 100., 100., 1., 50, 0.03, 0.3, 100000)\n",
    "print ('Call Price: ', AmericanPUT.price)"
   ]
  },
  {
   "cell_type": "code",
   "execution_count": null,
   "metadata": {},
   "outputs": [],
   "source": [
    "help(np.)"
   ]
  }
 ],
 "metadata": {
  "kernelspec": {
   "display_name": "Python 3",
   "language": "python",
   "name": "python3"
  },
  "language_info": {
   "codemirror_mode": {
    "name": "ipython",
    "version": 3
   },
   "file_extension": ".py",
   "mimetype": "text/x-python",
   "name": "python",
   "nbconvert_exporter": "python",
   "pygments_lexer": "ipython3",
   "version": "3.8.3"
  }
 },
 "nbformat": 4,
 "nbformat_minor": 4
}
