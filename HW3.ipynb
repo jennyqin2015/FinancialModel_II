{
 "cells": [
  {
   "cell_type": "code",
   "execution_count": 1,
   "metadata": {},
   "outputs": [],
   "source": [
    "# Author: Jenny Qin\n",
    "\n",
    "import numpy as np\n",
    "from scipy.stats import norm\n",
    "import matplotlib.pyplot as plt"
   ]
  },
  {
   "cell_type": "code",
   "execution_count": 6,
   "metadata": {},
   "outputs": [
    {
     "name": "stdout",
     "output_type": "stream",
     "text": [
      "0.544786515128255\n",
      "0.5298926440528947\n",
      "0.5149568299259097\n"
     ]
    }
   ],
   "source": [
    "print(norm.cdf(0.15*0.75))\n",
    "print(norm.cdf(0.15*0.5))\n",
    "print(norm.cdf(0.15*0.25))"
   ]
  },
  {
   "cell_type": "markdown",
   "metadata": {},
   "source": [
    "1. a) Simulate daily ($ \\delta_t = 1/252 $) stock price moveemnt 10,000 times, and compute, for each path, the cumulative difference/hedging error. Then average the absolute difference across 10,000 simulated paths and examine the distribution of the hedging error. What if you rebalance once a week? You should redo the exercise assuming weekly rebalance (you would need to simulate weekly ( $ \\delta_t = 1/52 $))"
   ]
  },
  {
   "cell_type": "code",
   "execution_count": 18,
   "metadata": {},
   "outputs": [],
   "source": [
    "# compute N(d1) and Ke^r(T-t)N(d2)\n",
    "def compute_port0(s,K,t,r,vol,T):\n",
    "    '''\n",
    "        This function compute the theoretical delta and borrowed money amount at time 0. \n",
    "    '''\n",
    "    d1 = (np.log(s/K)+(r+0.5*vol**2)*(T-t))/(vol*np.sqrt(T-t))\n",
    "    d2 = d1 - vol*np.sqrt(T-t)\n",
    "\n",
    "    N_d1 = norm.cdf(d1)\n",
    "    N_d2 = norm.cdf(d2)\n",
    "    stock_shares = norm.cdf(d1)\n",
    "    borrowed_amount = K*np.exp(r*(T-t))*N_d2\n",
    "    return stock_shares, borrowed_amount\n"
   ]
  },
  {
   "cell_type": "code",
   "execution_count": 19,
   "metadata": {},
   "outputs": [],
   "source": [
    "def compute_nd1(s,K,t,T,r,vol):\n",
    "    '''\n",
    "        This function computes nd1 for daily rebalanced portfolio\n",
    "        s: stock value at time t\n",
    "        t: time period t\n",
    "        T: total time period \n",
    "        K: strike price for this option\n",
    "        r: risk free interest rate\n",
    "        vol: annualized volatility\n",
    "    '''\n",
    "    d1 = (np.log(s/K)+(r+0.5*vol**2)*(T-t))/(vol*np.sqrt(T-t))\n",
    "    N_d1 = norm.cdf(d1)\n",
    "    return N_d1"
   ]
  },
  {
   "cell_type": "code",
   "execution_count": 20,
   "metadata": {},
   "outputs": [],
   "source": [
    "def compute_borrowed(delta_now, delta_before, borrowed_before, s_before, s_now, r, delta_t):\n",
    "    port_from_before = delta_before * s_now - borrowed_before * np.exp(r*delta_t)\n",
    "    port_in_stock = delta_now * s_now\n",
    "    borrowed = port_in_stock - port_from_before\n",
    "    return borrowed"
   ]
  },
  {
   "cell_type": "code",
   "execution_count": 21,
   "metadata": {},
   "outputs": [
    {
     "name": "stdout",
     "output_type": "stream",
     "text": [
      "At time zero, we need to purchase 0.599 shares\n",
      "At time zero, we need to borrow 44.93 amount of money\n"
     ]
    }
   ],
   "source": [
    "# set values to r and $\\sigma$\n",
    "r = 0.02 #2%\n",
    "vol = 0.4 #40\n",
    "N = 252 #252\n",
    "dt = 1/N\n",
    "s0 = 100\n",
    "K = 100\n",
    "T = 1\n",
    "\n",
    "# get simulated stock values for 10,000 paths\n",
    "stock_values = np.zeros((10000,N+1))\n",
    "stock_values[:,0] = s0\n",
    "\n",
    "for t in range(1,stock_values.shape[1]):\n",
    "    brownian=np.random.standard_normal(stock_values.shape[0])\n",
    "    stock_values[:,t]=(stock_values[:,t-1]*np.exp((r-vol**2/2.)*dt+vol*brownian*np.sqrt(dt)))\n",
    "\n",
    "# compute theoretical borrowed money and shares of stocks purchased at T\n",
    "stock_shares, borrowed = compute_port0(s0,100,0,r,vol,T)\n",
    "print(\"At time zero, we need to purchase {:.3f} shares\".format(stock_shares)) # figure out how to print decimal numbers in specific format\n",
    "print(\"At time zero, we need to borrow {:.2f} amount of money\".format(borrowed))\n",
    "\n",
    "# Compute portfolio value for all 10,000 paths at T\n",
    "portT = stock_shares*stock_values[:,N] - borrowed*np.exp(r*T)\n"
   ]
  },
  {
   "cell_type": "markdown",
   "metadata": {},
   "source": [
    "A synthetic portfolio for European call option ($\\sigma$ = 40) at time 0 is to purchase 0.599 stocks and borrow $44.93 in bond."
   ]
  },
  {
   "cell_type": "code",
   "execution_count": 22,
   "metadata": {},
   "outputs": [],
   "source": [
    "# compute number of stock shares for t = 0,1,...251, rebalanced daily\n",
    "nd1_matrix = np.zeros((10000,N))\n",
    "for t in range(N):\n",
    "        nd1_matrix[:,t] = compute_nd1(stock_values[:,t],K,t*dt,T,r,vol)"
   ]
  },
  {
   "cell_type": "code",
   "execution_count": 23,
   "metadata": {},
   "outputs": [],
   "source": [
    "borrowed_matrix = np.zeros((10000,N))\n",
    "borrowed_matrix[:,0] = borrowed\n",
    "for t in range(1, N):\n",
    "        borrowed_matrix[:,t] = compute_borrowed(nd1_matrix[:,t], nd1_matrix[:,t-1], borrowed_matrix[:,t-1], stock_values[:,t-1], stock_values[:,t], r, dt)"
   ]
  },
  {
   "cell_type": "code",
   "execution_count": 24,
   "metadata": {},
   "outputs": [
    {
     "name": "stdout",
     "output_type": "stream",
     "text": [
      "The average absolute hedging error for daily balanced portfolio is equal to 9.364823377274782\n"
     ]
    }
   ],
   "source": [
    "# compute portfolio value at time T and calculate hedging error\n",
    "\n",
    "rebalaced_portT = nd1_matrix[:,N-1] * stock_values[:,N] - borrowed_matrix[:,N-1]*np.exp(r*dt)\n",
    "abs_diff = np.abs(portT - rebalaced_portT)\n",
    "print(\"The average absolute hedging error for daily balanced portfolio is equal to {}\".format(np.average(abs_diff)))\n"
   ]
  },
  {
   "cell_type": "code",
   "execution_count": 25,
   "metadata": {},
   "outputs": [
    {
     "data": {
      "text/plain": [
       "Text(0.5, 1.0, 'Distribution of hedging error at time = T for daily rebalance')"
      ]
     },
     "execution_count": 25,
     "metadata": {},
     "output_type": "execute_result"
    },
    {
     "data": {
      "image/png": "[encoded data removed]",
      "text/plain": [
       "<Figure size 432x288 with 1 Axes>"
      ]
     },
     "metadata": {
      "needs_background": "light"
     },
     "output_type": "display_data"
    }
   ],
   "source": [
    "plt.hist(abs_diff)\n",
    "plt.title(\"Distribution of hedging error at time = T for weekly rebalance\")"
   ]
  },
  {
   "cell_type": "code",
   "execution_count": 16,
   "metadata": {},
   "outputs": [
    {
     "data": {
      "text/plain": [
       "Text(0.5, 1.0, 'Distribution of hedging error at time = T for daily rebalance')"
      ]
     },
     "execution_count": 16,
     "metadata": {},
     "output_type": "execute_result"
    },
    {
     "data": {
      "image/png": "[encoded data removed]",
      "text/plain": [
       "<Figure size 432x288 with 1 Axes>"
      ]
     },
     "metadata": {
      "needs_background": "light"
     },
     "output_type": "display_data"
    }
   ],
   "source": [
    "plt.hist(abs_diff)\n",
    "plt.title(\"Distribution of hedging error at time = T for daily rebalance\")"
   ]
  },
  {
   "cell_type": "markdown",
   "metadata": {},
   "source": [
    "The average absolute hedging error for daily balanced portfolio is equal to 9.47 ($\\sigma$ = 40%). And the hedging error for weekly balanced portfolio is $9.36."
   ]
  },
  {
   "cell_type": "markdown",
   "metadata": {},
   "source": [
    " b) Assume a 1bp one way transaction cost for trading the underlying. \n",
    "At time t. need to buy or sell $ N(d1)_{t} - N(d1)_{t-1} $ amount of shares. "
   ]
  },
  {
   "cell_type": "code",
   "execution_count": 26,
   "metadata": {},
   "outputs": [],
   "source": [
    "# Compute transaction cost\n",
    "def compute_cost(delta_now, delta_before, s_now, bp=0.0001):\n",
    "    diff = np.abs(delta_now - delta_before)\n",
    "    total_transaction = np.abs(delta_now - delta_before)*s_now \n",
    "    transaction_cost = total_transaction * bp\n",
    "    return transaction_cost"
   ]
  },
  {
   "cell_type": "code",
   "execution_count": 27,
   "metadata": {},
   "outputs": [
    {
     "data": {
      "text/plain": [
       "0.028644001177711296"
      ]
     },
     "execution_count": 27,
     "metadata": {},
     "output_type": "execute_result"
    }
   ],
   "source": [
    "cost_matrix = np.zeros((10000, N))\n",
    "for t in range(N):\n",
    "        if t == 0:\n",
    "            cost_matrix[:,t] = nd1_matrix[:,t] * stock_values[:,t] * 0.0001\n",
    "        else:\n",
    "            cost_matrix[:,t] = compute_cost(nd1_matrix[:,t],nd1_matrix[:,t-1], stock_values[:,t])\n",
    "\n",
    "Accumulated_cost = np.zeros(10000)\n",
    "for i in range(10000):\n",
    "    for t in range(N):\n",
    "        Accumulated_cost[i] += cost_matrix[i,t] * (np.exp(r*(N-t)/N))\n",
    "np.average(Accumulated_cost )\n"
   ]
  },
  {
   "cell_type": "markdown",
   "metadata": {},
   "source": [
    "Average transaction cost for daily rebalance is 0.056. And for weekly rebalance is 0.0286."
   ]
  },
  {
   "cell_type": "markdown",
   "metadata": {},
   "source": [
    "c) If you are the market maker, how much would you charge for this call option in light of the discrepancy in hedging error and transaction cost"
   ]
  },
  {
   "cell_type": "markdown",
   "metadata": {},
   "source": [
    "When $\\sigma$ is estimated to be 40%, the average hedging error at time T is 9.47. And the average transaction cost would be 0.056. Therefore, I would charge $9.526 in light of these discrepancy. "
   ]
  },
  {
   "cell_type": "markdown",
   "metadata": {},
   "source": [
    "d) What if you misestimated the underlying stock's volatility? What would be the\n",
    "hedged gain or loss if the underlying volatility is 50% or 30%? Please compute\n",
    "for each case."
   ]
  },
  {
   "cell_type": "markdown",
   "metadata": {},
   "source": [
    "2. (a) Simulate daily stock price movement and use the simulation to price 1-year Eu-\n",
    "ropean call options with S0 = 100 and K from 75 to 125 with $5 increments. The\n",
    "initial instantaneous variance is assumed to be equal to its long run mean."
   ]
  },
  {
   "cell_type": "code",
   "execution_count": 3,
   "metadata": {},
   "outputs": [],
   "source": [
    "import numpy as np\n",
    "from scipy.stats import norm"
   ]
  },
  {
   "cell_type": "code",
   "execution_count": 65,
   "metadata": {},
   "outputs": [],
   "source": [
    "def heston_price(s0, K, r, kappa, theta, eta, rho, dt, N, T):\n",
    "    t_steps = int(1/dt)\n",
    "    s = np.zeros((N, t_steps+1))\n",
    "    s[:,0] = s0\n",
    "    v = np.zeros((N,t_steps+1))\n",
    "    v[:,0] = theta # theta = 0.04\n",
    "    \n",
    "    x1 = np.zeros((N,t_steps+1))\n",
    "    x2 = np.zeros((N,t_steps+1))\n",
    "    for t in range(1, t_steps+1):\n",
    "        dx1 = np.random.normal(0, np.sqrt(dt), N)\n",
    "        dx2 = np.random.normal(0, np.sqrt(dt), N)\n",
    "        dws = dx1\n",
    "        dwv = rho * dx1 + np.sqrt(1 - rho**2)*dx2\n",
    "        \n",
    "        dv = kappa*(theta-v[:,t-1])*dt + eta * np.sqrt(v[:,t-1])*dwv\n",
    "        v[:,t] = v[:,t-1] + dv\n",
    "        \n",
    "        ds = s[:,t-1] * (r*dt + np.sqrt(v[:,t])*dws)\n",
    "        \n",
    "        s[:,t]=s[:,t-1] + ds\n",
    "    \n",
    "    print(v)\n",
    "    payoffT = np.zeros(N)\n",
    "    for j in range(N):\n",
    "        payoffT[j] = max(0,s[j,t_steps]-K)\n",
    "    price = np.average(np.exp(r*(T))*payoffT)\n",
    "    return price"
   ]
  },
  {
   "cell_type": "code",
   "execution_count": 59,
   "metadata": {},
   "outputs": [
    {
     "name": "stderr",
     "output_type": "stream",
     "text": [
      "<ipython-input-55-ea738f18567c>:19: RuntimeWarning: invalid value encountered in sqrt\n",
      "  ds = s[:,t-1] * (r*dt + np.sqrt(v[:,t])*dws)\n",
      "<ipython-input-55-ea738f18567c>:16: RuntimeWarning: invalid value encountered in sqrt\n",
      "  dv = kappa*(theta-v[:,t-1])*dt + eta * np.sqrt(v[:,t-1])*dwv\n"
     ]
    },
    {
     "name": "stdout",
     "output_type": "stream",
     "text": [
      "BS European call price is 21.17 when strike equals to 75\n",
      "Heston European call price is 2.93 when strike equals to 75\n",
      "BS European call price is 18.72 when strike equals to 80\n",
      "Heston European call price is 2.26 when strike equals to 80\n",
      "BS European call price is 16.27 when strike equals to 85\n",
      "Heston European call price is 1.58 when strike equals to 85\n",
      "BS European call price is 13.82 when strike equals to 90\n",
      "Heston European call price is 1.16 when strike equals to 90\n",
      "BS European call price is 11.37 when strike equals to 95\n",
      "Heston European call price is 0.83 when strike equals to 95\n",
      "BS European call price is 8.92 when strike equals to 100\n",
      "Heston European call price is 0.55 when strike equals to 100\n",
      "BS European call price is 6.47 when strike equals to 105\n",
      "Heston European call price is 0.44 when strike equals to 105\n",
      "BS European call price is 4.02 when strike equals to 110\n",
      "Heston European call price is 0.30 when strike equals to 110\n",
      "BS European call price is 1.56 when strike equals to 115\n",
      "Heston European call price is 0.22 when strike equals to 115\n",
      "BS European call price is -0.89 when strike equals to 120\n",
      "Heston European call price is 0.18 when strike equals to 120\n"
     ]
    }
   ],
   "source": [
    "s0 = 100\n",
    "K = 100\n",
    "r = 0.02\n",
    "kappa = 0.1\n",
    "theta = 0.04\n",
    "eta = 0.5\n",
    "rho = -0.6\n",
    "dt = 1/252\n",
    "N = 10000\n",
    "\n",
    "\n",
    "\n",
    "# compute black schole price for S0 = 100, K ranges from 75 to 125 with a step equals to $5\n",
    "t = 0\n",
    "T = 1\n",
    "sigma = np.sqrt(theta)\n",
    "d1 = (np.log(s0/K)+(r+0.5*sigma**2)*(T-t))/(sigma*np.sqrt(T-t))\n",
    "N_d1 = norm.cdf(d1)\n",
    "d2 = d1 - sigma*np.sqrt(T - t)\n",
    "N_d2 = norm.cdf(d2)\n",
    "\n",
    "prices = []\n",
    "hestons = []\n",
    "for K in range(75,125,5):\n",
    "    price = s0*N_d1 - np.exp(-r*(T-t))*K*N_d2\n",
    "    heston = heston_price(s0, K, r, kappa, theta, eta, rho, dt, N, T)\n",
    "    prices.append(price)\n",
    "    hestons.append(heston)\n",
    "    print(\"BS European call price is {:.2f} when strike equals to {}\".format(price, K))\n",
    "    print(\"Heston European call price is {:.2f} when strike equals to {}\".format(heston, K))"
   ]
  }
 ],
 "metadata": {
  "kernelspec": {
   "display_name": "Python 3",
   "language": "python",
   "name": "python3"
  },
  "language_info": {
   "codemirror_mode": {
    "name": "ipython",
    "version": 3
   },
   "file_extension": ".py",
   "mimetype": "text/x-python",
   "name": "python",
   "nbconvert_exporter": "python",
   "pygments_lexer": "ipython3",
   "version": "3.8.3"
  }
 },
 "nbformat": 4,
 "nbformat_minor": 4
}
